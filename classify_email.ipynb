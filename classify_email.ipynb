{
 "cells": [
  {
   "cell_type": "code",
   "execution_count": 1,
   "metadata": {},
   "outputs": [],
   "source": [
    "import pandas as pd\n",
    "import seaborn as sns\n",
    "import matplotlib.pyplot as plt"
   ]
  },
  {
   "cell_type": "code",
   "execution_count": 2,
   "metadata": {},
   "outputs": [],
   "source": [
    "train = pd.read_csv(\"/Users/jingxiuhu/desktop/capstone/data/train.csv\")\n",
    "test = pd.read_csv(\"/Users/jingxiuhu/desktop/capstone/data/test.csv\")"
   ]
  },
  {
   "cell_type": "markdown",
   "metadata": {},
   "source": [
    "Id - the id of the email<br />\n",
    "date - date and time at which mail was received<br />\n",
    "org - the organisation of the sender<br />\n",
    "tld - top-level domain of the sender's organisation<br />\n",
    "ccs - number of people cc'd in the email<br />\n",
    "bcced - is the receiver bcc'd in the email<br />\n",
    "mail_type - the type of the mail body<br />\n",
    "images - number of images in the mail body<br />\n",
    "urls - number of urls in the mail body<br />\n",
    "salutations - is salutation used in the email?<br />\n",
    "designation - is designation of the sender mentioned in the email?<br />\n",
    "chars_in_subject - number of characters in the email's subject<br />\n",
    "chars_in_body - number of characters in the email's body<br />\n",
    "label - the label of the email(1 -> Promotional, 0 -> personal)<br />"
   ]
  },
  {
   "cell_type": "code",
   "execution_count": 3,
   "metadata": {},
   "outputs": [
    {
     "data": {
      "text/html": [
       "<div>\n",
       "<style scoped>\n",
       "    .dataframe tbody tr th:only-of-type {\n",
       "        vertical-align: middle;\n",
       "    }\n",
       "\n",
       "    .dataframe tbody tr th {\n",
       "        vertical-align: top;\n",
       "    }\n",
       "\n",
       "    .dataframe thead th {\n",
       "        text-align: right;\n",
       "    }\n",
       "</style>\n",
       "<table border=\"1\" class=\"dataframe\">\n",
       "  <thead>\n",
       "    <tr style=\"text-align: right;\">\n",
       "      <th></th>\n",
       "      <th>Id</th>\n",
       "      <th>date</th>\n",
       "      <th>org</th>\n",
       "      <th>tld</th>\n",
       "      <th>ccs</th>\n",
       "      <th>bcced</th>\n",
       "      <th>mail_type</th>\n",
       "      <th>images</th>\n",
       "      <th>urls</th>\n",
       "      <th>salutations</th>\n",
       "      <th>designation</th>\n",
       "      <th>chars_in_subject</th>\n",
       "      <th>chars_in_body</th>\n",
       "      <th>label</th>\n",
       "    </tr>\n",
       "  </thead>\n",
       "  <tbody>\n",
       "    <tr>\n",
       "      <th>0</th>\n",
       "      <td>0</td>\n",
       "      <td>Sat, 2 Jul 2016 11:02:58 +0530</td>\n",
       "      <td>iiitd</td>\n",
       "      <td>ac.in</td>\n",
       "      <td>4</td>\n",
       "      <td>0</td>\n",
       "      <td>multipart/alternative</td>\n",
       "      <td>0</td>\n",
       "      <td>0</td>\n",
       "      <td>1</td>\n",
       "      <td>0</td>\n",
       "      <td>23</td>\n",
       "      <td>3020</td>\n",
       "      <td>0</td>\n",
       "    </tr>\n",
       "    <tr>\n",
       "      <th>1</th>\n",
       "      <td>1</td>\n",
       "      <td>Sun, 20 Mar 2016 12:05:42 +0530</td>\n",
       "      <td>iiitd</td>\n",
       "      <td>ac.in</td>\n",
       "      <td>9</td>\n",
       "      <td>0</td>\n",
       "      <td>multipart/alternative</td>\n",
       "      <td>0</td>\n",
       "      <td>0</td>\n",
       "      <td>1</td>\n",
       "      <td>0</td>\n",
       "      <td>44</td>\n",
       "      <td>5026</td>\n",
       "      <td>0</td>\n",
       "    </tr>\n",
       "    <tr>\n",
       "      <th>2</th>\n",
       "      <td>2</td>\n",
       "      <td>Tue, 16 Jan 2018 14:46:11 +0000 (UTC)</td>\n",
       "      <td>github</td>\n",
       "      <td>com</td>\n",
       "      <td>1</td>\n",
       "      <td>0</td>\n",
       "      <td>multipart/alternative</td>\n",
       "      <td>2</td>\n",
       "      <td>26</td>\n",
       "      <td>0</td>\n",
       "      <td>0</td>\n",
       "      <td>51</td>\n",
       "      <td>4792</td>\n",
       "      <td>0</td>\n",
       "    </tr>\n",
       "    <tr>\n",
       "      <th>3</th>\n",
       "      <td>3</td>\n",
       "      <td>Sat, 13 Sep 2014 22:36:23 +0000</td>\n",
       "      <td>twitter</td>\n",
       "      <td>com</td>\n",
       "      <td>0</td>\n",
       "      <td>0</td>\n",
       "      <td>multipart/alternative</td>\n",
       "      <td>10</td>\n",
       "      <td>94</td>\n",
       "      <td>0</td>\n",
       "      <td>0</td>\n",
       "      <td>66</td>\n",
       "      <td>47711</td>\n",
       "      <td>1</td>\n",
       "    </tr>\n",
       "    <tr>\n",
       "      <th>4</th>\n",
       "      <td>4</td>\n",
       "      <td>Tue, 26 Sep 2017 13:50:52 +0000 (UTC)</td>\n",
       "      <td>udacity</td>\n",
       "      <td>com</td>\n",
       "      <td>0</td>\n",
       "      <td>0</td>\n",
       "      <td>multipart/alternative</td>\n",
       "      <td>10</td>\n",
       "      <td>40</td>\n",
       "      <td>1</td>\n",
       "      <td>0</td>\n",
       "      <td>53</td>\n",
       "      <td>64317</td>\n",
       "      <td>1</td>\n",
       "    </tr>\n",
       "  </tbody>\n",
       "</table>\n",
       "</div>"
      ],
      "text/plain": [
       "   Id                                   date      org    tld  ccs  bcced  \\\n",
       "0   0         Sat, 2 Jul 2016 11:02:58 +0530    iiitd  ac.in    4      0   \n",
       "1   1        Sun, 20 Mar 2016 12:05:42 +0530    iiitd  ac.in    9      0   \n",
       "2   2  Tue, 16 Jan 2018 14:46:11 +0000 (UTC)   github    com    1      0   \n",
       "3   3        Sat, 13 Sep 2014 22:36:23 +0000  twitter    com    0      0   \n",
       "4   4  Tue, 26 Sep 2017 13:50:52 +0000 (UTC)  udacity    com    0      0   \n",
       "\n",
       "               mail_type  images  urls  salutations  designation  \\\n",
       "0  multipart/alternative       0     0            1            0   \n",
       "1  multipart/alternative       0     0            1            0   \n",
       "2  multipart/alternative       2    26            0            0   \n",
       "3  multipart/alternative      10    94            0            0   \n",
       "4  multipart/alternative      10    40            1            0   \n",
       "\n",
       "   chars_in_subject  chars_in_body  label  \n",
       "0                23           3020      0  \n",
       "1                44           5026      0  \n",
       "2                51           4792      0  \n",
       "3                66          47711      1  \n",
       "4                53          64317      1  "
      ]
     },
     "execution_count": 3,
     "metadata": {},
     "output_type": "execute_result"
    }
   ],
   "source": [
    "train.head()"
   ]
  },
  {
   "cell_type": "code",
   "execution_count": 4,
   "metadata": {},
   "outputs": [
    {
     "data": {
      "text/plain": [
       "(14064, 14)"
      ]
     },
     "execution_count": 4,
     "metadata": {},
     "output_type": "execute_result"
    }
   ],
   "source": [
    "train.shape"
   ]
  },
  {
   "cell_type": "code",
   "execution_count": 5,
   "metadata": {},
   "outputs": [
    {
     "data": {
      "text/plain": [
       "(6029, 13)"
      ]
     },
     "execution_count": 5,
     "metadata": {},
     "output_type": "execute_result"
    }
   ],
   "source": [
    "test.shape"
   ]
  },
  {
   "cell_type": "code",
   "execution_count": 6,
   "metadata": {},
   "outputs": [
    {
     "data": {
      "text/plain": [
       "Id                   int64\n",
       "date                object\n",
       "org                 object\n",
       "tld                 object\n",
       "ccs                  int64\n",
       "bcced                int64\n",
       "mail_type           object\n",
       "images               int64\n",
       "urls                 int64\n",
       "salutations          int64\n",
       "designation          int64\n",
       "chars_in_subject     int64\n",
       "chars_in_body        int64\n",
       "label                int64\n",
       "dtype: object"
      ]
     },
     "execution_count": 6,
     "metadata": {},
     "output_type": "execute_result"
    }
   ],
   "source": [
    "train.dtypes"
   ]
  },
  {
   "cell_type": "code",
   "execution_count": 7,
   "metadata": {},
   "outputs": [
    {
     "data": {
      "text/plain": [
       "1    9204\n",
       "0    4860\n",
       "Name: label, dtype: int64"
      ]
     },
     "execution_count": 7,
     "metadata": {},
     "output_type": "execute_result"
    }
   ],
   "source": [
    "train['label'].value_counts()"
   ]
  },
  {
   "cell_type": "markdown",
   "metadata": {},
   "source": [
    "Let's check if we have data imbalance."
   ]
  },
  {
   "cell_type": "code",
   "execution_count": 8,
   "metadata": {},
   "outputs": [
    {
     "data": {
      "image/png": "[encoded data removed]",
      "text/plain": [
       "<Figure size 432x288 with 1 Axes>"
      ]
     },
     "metadata": {},
     "output_type": "display_data"
    }
   ],
   "source": [
    "labels = '0', '1'\n",
    "sizes = [train['label'].value_counts()[0], train['label'].value_counts()[1]]\n",
    "colors = ['gold', 'lightcoral']\n",
    "plt.pie(sizes, labels=labels, colors=colors, autopct='%1.1f%%', shadow=True, startangle=140)\n",
    "plt.axis('equal')\n",
    "plt.show()"
   ]
  },
  {
   "cell_type": "markdown",
   "metadata": {},
   "source": [
    "Let's check if there is any null values in our data, we can see we only have null values for variables org and tld, and they both have 114 null values in the train data, and 48 null values in the test data. Let's replace these null values with \"Not mentioned\" in both train and test"
   ]
  },
  {
   "cell_type": "code",
   "execution_count": 9,
   "metadata": {},
   "outputs": [
    {
     "data": {
      "text/plain": [
       "Id                  False\n",
       "date                False\n",
       "org                  True\n",
       "tld                  True\n",
       "ccs                 False\n",
       "bcced               False\n",
       "mail_type           False\n",
       "images              False\n",
       "urls                False\n",
       "salutations         False\n",
       "designation         False\n",
       "chars_in_subject    False\n",
       "chars_in_body       False\n",
       "label               False\n",
       "dtype: bool"
      ]
     },
     "execution_count": 9,
     "metadata": {},
     "output_type": "execute_result"
    }
   ],
   "source": [
    "train.isnull().any()"
   ]
  },
  {
   "cell_type": "code",
   "execution_count": 10,
   "metadata": {},
   "outputs": [
    {
     "data": {
      "text/plain": [
       "Id                    0\n",
       "date                  0\n",
       "org                 114\n",
       "tld                 114\n",
       "ccs                   0\n",
       "bcced                 0\n",
       "mail_type             0\n",
       "images                0\n",
       "urls                  0\n",
       "salutations           0\n",
       "designation           0\n",
       "chars_in_subject      0\n",
       "chars_in_body         0\n",
       "label                 0\n",
       "dtype: int64"
      ]
     },
     "execution_count": 10,
     "metadata": {},
     "output_type": "execute_result"
    }
   ],
   "source": [
    "train.isnull().sum()"
   ]
  },
  {
   "cell_type": "code",
   "execution_count": 11,
   "metadata": {},
   "outputs": [
    {
     "data": {
      "text/plain": [
       "Id                   0\n",
       "date                 0\n",
       "org                 48\n",
       "tld                 48\n",
       "ccs                  0\n",
       "bcced                0\n",
       "mail_type            0\n",
       "images               0\n",
       "urls                 0\n",
       "salutations          0\n",
       "designation          0\n",
       "chars_in_subject     0\n",
       "chars_in_body        0\n",
       "dtype: int64"
      ]
     },
     "execution_count": 11,
     "metadata": {},
     "output_type": "execute_result"
    }
   ],
   "source": [
    "test.isnull().sum()"
   ]
  },
  {
   "cell_type": "code",
   "execution_count": 12,
   "metadata": {},
   "outputs": [],
   "source": [
    "train = train.fillna('Not_mentioned')\n",
    "test = test.fillna('Not_mentioned')"
   ]
  },
  {
   "cell_type": "code",
   "execution_count": 13,
   "metadata": {},
   "outputs": [
    {
     "data": {
      "text/plain": [
       "Id                  False\n",
       "date                False\n",
       "org                 False\n",
       "tld                 False\n",
       "ccs                 False\n",
       "bcced               False\n",
       "mail_type           False\n",
       "images              False\n",
       "urls                False\n",
       "salutations         False\n",
       "designation         False\n",
       "chars_in_subject    False\n",
       "chars_in_body       False\n",
       "label               False\n",
       "dtype: bool"
      ]
     },
     "execution_count": 13,
     "metadata": {},
     "output_type": "execute_result"
    }
   ],
   "source": [
    "train.isnull().any()"
   ]
  },
  {
   "cell_type": "code",
   "execution_count": 14,
   "metadata": {},
   "outputs": [
    {
     "data": {
      "text/plain": [
       "Id                  False\n",
       "date                False\n",
       "org                 False\n",
       "tld                 False\n",
       "ccs                 False\n",
       "bcced               False\n",
       "mail_type           False\n",
       "images              False\n",
       "urls                False\n",
       "salutations         False\n",
       "designation         False\n",
       "chars_in_subject    False\n",
       "chars_in_body       False\n",
       "dtype: bool"
      ]
     },
     "execution_count": 14,
     "metadata": {},
     "output_type": "execute_result"
    }
   ],
   "source": [
    "test.isnull().any()"
   ]
  },
  {
   "cell_type": "markdown",
   "metadata": {},
   "source": [
    "We have too many categoricals for variable org and tld. This would increase the dimension of our model, we might end up with not having enough data to accurately train the model."
   ]
  },
  {
   "cell_type": "code",
   "execution_count": 15,
   "metadata": {},
   "outputs": [
    {
     "name": "stdout",
     "output_type": "stream",
     "text": [
      "['iiitd' 'github' 'twitter' 'udacity' 'topcoder' 'quora' 'pvrcinemas'\n",
      " 'googlegroups' 'indiatimes' 'linkedin' 'centralesupelec' 'amazon' 'plus'\n",
      " 'crm' 'e' 'reply' 'angel' 'emailer' 'youtube' 'mails' 'usebackpack'\n",
      " 'hotmail' 'medium' 'symless' 'flipkartletters' 'getpostman' 'discuss'\n",
      " 'oracle-mail' 'academia-mail' 'statebankrewardz' 'edx' 'duolingo'\n",
      " 'hackerearth' 'unisys' 'facebookmail' 'brilliant' 'htc' 'mailer' 'mail'\n",
      " 'redwolf' 'Not_mentioned' 'mentor' 'researchgate' 'rs-components'\n",
      " 'nvidia' 'mail1' 'nedm' 'newsletter' 'geeksforgeeks' 'sampark'\n",
      " 'notifications' 'ruprr' 'airtable-2' 'news' 'marketing' 'codeschool'\n",
      " 'shop' 'ZOONIVERSE' 'send' 'explore' 'xprize' 'email' 'ndtvecommerce'\n",
      " 'web-spicejet' 'usief' 'innerchef' 'magoosh' 'media' 'bookmyshow'\n",
      " 'springboard' 'bigbasket' 'kaggle' 'in' 'signalprocessingsociety'\n",
      " 'researchgatemail' 'magento' 'codecademy' 'iheartdogs-email' 'updates'\n",
      " 't' 'lss' 'makemytripmails' 'phonepe' 'thomascook' 'neo4j' 'inoxmovies'\n",
      " 'primevideo' 'flat' 'datacamp' 'em' 'crazydomains' 'kotak' 'vairdo'\n",
      " 'airtable' 'imdb' 'coupondunia' 'pinterest' 'paytmemail' 'deeplearning'\n",
      " 'cleartrip' 'donate' 'ieee' 'quadkopters' 'mp1' 'm' 'newsgram'\n",
      " 'tatadocomo' 'dropbox' 'cambridge-intelligence' 'rapidapi' 'rcgroups'\n",
      " 'inria' 'emails' 'mapbox' 'tufinawatches' 'invite' 'national' 'walkfree'\n",
      " 'go' 'edm' 'technolutions' 'nptel' 'dataquest-0740d8e6e13d'\n",
      " 'synergy-project' 'entertainment' 'flipkartpromotions' 'outernet' 'sg'\n",
      " 'bg' 'insure' 'hackerrank' 'arya' 'overleaf' 'email1' 'messages' 'gmail'\n",
      " 'e-mail' 'paypal-exchanges' 'careers360' 'divx' 'referhire' 'cdconnect'\n",
      " 'mak' 'supelec' 'glassdoor' 'new' 'connect' 'Magento' 'neotechnology'\n",
      " 'communication' 'ecp' 'cbsnewsletter' 'digitalglobe-platform' 'limnu'\n",
      " 'myopportunity' 'clubvistara' 'fccashback' 'buffalo' 'readcube'\n",
      " 'awseducate' 'Mentor' 'flipkartmail' 'naaptoldeals' 'khanacademy'\n",
      " 'student-cs' 'trello' 'diydrones' 'oneplus' 'monsterindia' 'zoomgroup'\n",
      " 'atmel' 'ampleclick' 'ni' 'simbla' 'oneplusstore' 'hackerrankmail'\n",
      " 'maillist' 'cs' 'airpostmail' 'google' 'airvistara' 'stylusstudio'\n",
      " 'freshworks' 'emm' 'cardekholetters' 'applemusic' 'pbmails' 'info' 'diux'\n",
      " 'astrospeak' 'cakewalk' 'stackexchange' 'autodesk' 'sutlej-mail'\n",
      " 'interviewbit' 'creately' 'travel' 'healthie' 'et' 'apiai-a32c4dd4b716'\n",
      " 'docker' 'nobrokerletters' 'geeps' 'comma' 'imindmap' 'ride'\n",
      " 'naaptoldealz' 'box8letters' 'flipkart' 'pbmail' 'InsideApple'\n",
      " 'internations' 'repositoryhosting' 'trigger' 'Neotechnology' 'dcoder'\n",
      " 'blablacar' 'shining3d' 'foursquare' 'dropboxmail' 'agencenavigo'\n",
      " 'asuswebstorage' 'premiumjobalerts' 'sbi' 'cromaretail' 'smartsheet'\n",
      " 'twenty19' 'rcbazaar' 'marmalademail' 'entropay' 'payumoney' 'us' 'vito'\n",
      " 'truecaller' 'codeanywhere' 'olxemails' 'ready4' 'serviceclients'\n",
      " 'youth4work' 'naylormarketing' 'witai-2' 'asvspoof' 'centrepompidou'\n",
      " 'funaster' '126' 'globalfashion' 'pornhub' 'promo' 'layoutit' 'sc'\n",
      " 'critical' 'ames-it-solutions' 'flickr' 'uber' 'sci' 'policies' '3dr']\n",
      "257\n"
     ]
    }
   ],
   "source": [
    "print(train.org.unique())\n",
    "print(len(train.org.unique()))"
   ]
  },
  {
   "cell_type": "code",
   "execution_count": 16,
   "metadata": {},
   "outputs": [
    {
     "name": "stdout",
     "output_type": "stream",
     "text": [
      "['ac.in' 'com' 'fr' 'in' 'google.com' 'sdconnect.in' 'linkedin.com'\n",
      " 'ebay.in' 'co' 'cardekho.com' 'travel-makemytrip.com' 'pytorch.org' 'org'\n",
      " 'netflix.com' 'goodreads.com' 'Not_mentioned' 'net' 'co.in' 'prezi.com'\n",
      " 'asus.com' 'speakingtree.in' 'gov.in' 'pinterest.com' 'info'\n",
      " 'intercom-mail.com' 'foodpanda.in' 'goindigo.in' 'ORG' 'grammarly.com'\n",
      " 'nvidia.com' 'org.in' 'jabong.com' 'instagram.com' 'ieee.org' 'email'\n",
      " 'ibm.com' 'vincerowatches.com' 'paypal.com' 'bookmyshow.com'\n",
      " 'miscota.com' 'mail.coursera.org' 'supelec.fr' 'skype.com' 'io' 'ai'\n",
      " 'classmates.com' 'cardekhomailer.com' 'wfp.org' 'bitbucket.org'\n",
      " 'tripadvisor.com' 'hp.com' 'twitter.com' 'evernote.com' 'quoramail.com'\n",
      " 'lescrous.fr' 'surveymonkey.com' 'efinmail.com' 'iitm.ac.in' 'is'\n",
      " 'booking.com' 'vnet.ibm.com' 'reliancegeneral.co.in' 'asana.com'\n",
      " 'xoom.com' 'gopro.com' 'travel2-makemytrip.com' 'chtah.com' 'itunes.com'\n",
      " 'digitalglobe.com' 'microsoft.com' 'udacity.com' 'edu' 'godaddy.com'\n",
      " 'orkut.com' 'payback.in' 'codeproject.com' 'stanford.edu' 'ibmmail.com'\n",
      " 'mathworks.com' 'frankfurt-airport.news' 'change.org' 'mil' 'elitmus.biz'\n",
      " 'hobbyking.com' 'emails-makemytrip.com' 'uber.com' 'last.fm'\n",
      " 'centralesupelec.fr' 'bird.co' 'Apple.com' 'tech' 'oneplus.com' 'be'\n",
      " 'auchan.net' 'iiitd.ac.in' 'hosting' 'mobikwik.com' 'crazydomains.com'\n",
      " 'today' 'scientific-direct.net' 'mail.intercom.io']\n",
      "101\n"
     ]
    }
   ],
   "source": [
    "print(train.tld.unique())\n",
    "print(len(train.tld.unique()))"
   ]
  },
  {
   "cell_type": "code",
   "execution_count": 17,
   "metadata": {},
   "outputs": [
    {
     "name": "stdout",
     "output_type": "stream",
     "text": [
      "['multipart/alternative' 'multipart/mixed' 'text/html' 'text/plain'\n",
      " 'multipart/related' 'Text/Html' 'Multipart/Mixed']\n",
      "7\n"
     ]
    }
   ],
   "source": [
    "print(train.mail_type.unique())\n",
    "print(len(train.mail_type.unique()))"
   ]
  },
  {
   "cell_type": "markdown",
   "metadata": {},
   "source": [
    "For the date variable, we only want to keep what time the email is received, the day of week when the email is reveived, and which month the email is recevied. Because I think theses features might play an important role when determine if the email recevied is spam or not."
   ]
  },
  {
   "cell_type": "code",
   "execution_count": 18,
   "metadata": {},
   "outputs": [],
   "source": [
    "train.date = pd.to_datetime(train.date, utc=True)\n",
    "test.date = pd.to_datetime(test.date, utc=True)"
   ]
  },
  {
   "cell_type": "code",
   "execution_count": 19,
   "metadata": {},
   "outputs": [],
   "source": [
    "def engineered_time_feature(df):\n",
    "    df['month'] = df.date.dt.month\n",
    "    df['day_of_week'] = df.date.dt.dayofweek\n",
    "    df['hour'] = df.date.dt.hour\n",
    "    return df"
   ]
  },
  {
   "cell_type": "code",
   "execution_count": 20,
   "metadata": {},
   "outputs": [
    {
     "data": {
      "text/html": [
       "<div>\n",
       "<style scoped>\n",
       "    .dataframe tbody tr th:only-of-type {\n",
       "        vertical-align: middle;\n",
       "    }\n",
       "\n",
       "    .dataframe tbody tr th {\n",
       "        vertical-align: top;\n",
       "    }\n",
       "\n",
       "    .dataframe thead th {\n",
       "        text-align: right;\n",
       "    }\n",
       "</style>\n",
       "<table border=\"1\" class=\"dataframe\">\n",
       "  <thead>\n",
       "    <tr style=\"text-align: right;\">\n",
       "      <th></th>\n",
       "      <th>Id</th>\n",
       "      <th>date</th>\n",
       "      <th>org</th>\n",
       "      <th>tld</th>\n",
       "      <th>ccs</th>\n",
       "      <th>bcced</th>\n",
       "      <th>mail_type</th>\n",
       "      <th>images</th>\n",
       "      <th>urls</th>\n",
       "      <th>salutations</th>\n",
       "      <th>designation</th>\n",
       "      <th>chars_in_subject</th>\n",
       "      <th>chars_in_body</th>\n",
       "      <th>label</th>\n",
       "      <th>month</th>\n",
       "      <th>day_of_week</th>\n",
       "      <th>hour</th>\n",
       "    </tr>\n",
       "  </thead>\n",
       "  <tbody>\n",
       "    <tr>\n",
       "      <th>0</th>\n",
       "      <td>0</td>\n",
       "      <td>2016-07-02 05:32:58+00:00</td>\n",
       "      <td>iiitd</td>\n",
       "      <td>ac.in</td>\n",
       "      <td>4</td>\n",
       "      <td>0</td>\n",
       "      <td>multipart/alternative</td>\n",
       "      <td>0</td>\n",
       "      <td>0</td>\n",
       "      <td>1</td>\n",
       "      <td>0</td>\n",
       "      <td>23</td>\n",
       "      <td>3020</td>\n",
       "      <td>0</td>\n",
       "      <td>7</td>\n",
       "      <td>5</td>\n",
       "      <td>5</td>\n",
       "    </tr>\n",
       "    <tr>\n",
       "      <th>1</th>\n",
       "      <td>1</td>\n",
       "      <td>2016-03-20 06:35:42+00:00</td>\n",
       "      <td>iiitd</td>\n",
       "      <td>ac.in</td>\n",
       "      <td>9</td>\n",
       "      <td>0</td>\n",
       "      <td>multipart/alternative</td>\n",
       "      <td>0</td>\n",
       "      <td>0</td>\n",
       "      <td>1</td>\n",
       "      <td>0</td>\n",
       "      <td>44</td>\n",
       "      <td>5026</td>\n",
       "      <td>0</td>\n",
       "      <td>3</td>\n",
       "      <td>6</td>\n",
       "      <td>6</td>\n",
       "    </tr>\n",
       "    <tr>\n",
       "      <th>2</th>\n",
       "      <td>2</td>\n",
       "      <td>2018-01-16 14:46:11+00:00</td>\n",
       "      <td>github</td>\n",
       "      <td>com</td>\n",
       "      <td>1</td>\n",
       "      <td>0</td>\n",
       "      <td>multipart/alternative</td>\n",
       "      <td>2</td>\n",
       "      <td>26</td>\n",
       "      <td>0</td>\n",
       "      <td>0</td>\n",
       "      <td>51</td>\n",
       "      <td>4792</td>\n",
       "      <td>0</td>\n",
       "      <td>1</td>\n",
       "      <td>1</td>\n",
       "      <td>14</td>\n",
       "    </tr>\n",
       "    <tr>\n",
       "      <th>3</th>\n",
       "      <td>3</td>\n",
       "      <td>2014-09-13 22:36:23+00:00</td>\n",
       "      <td>twitter</td>\n",
       "      <td>com</td>\n",
       "      <td>0</td>\n",
       "      <td>0</td>\n",
       "      <td>multipart/alternative</td>\n",
       "      <td>10</td>\n",
       "      <td>94</td>\n",
       "      <td>0</td>\n",
       "      <td>0</td>\n",
       "      <td>66</td>\n",
       "      <td>47711</td>\n",
       "      <td>1</td>\n",
       "      <td>9</td>\n",
       "      <td>5</td>\n",
       "      <td>22</td>\n",
       "    </tr>\n",
       "    <tr>\n",
       "      <th>4</th>\n",
       "      <td>4</td>\n",
       "      <td>2017-09-26 13:50:52+00:00</td>\n",
       "      <td>udacity</td>\n",
       "      <td>com</td>\n",
       "      <td>0</td>\n",
       "      <td>0</td>\n",
       "      <td>multipart/alternative</td>\n",
       "      <td>10</td>\n",
       "      <td>40</td>\n",
       "      <td>1</td>\n",
       "      <td>0</td>\n",
       "      <td>53</td>\n",
       "      <td>64317</td>\n",
       "      <td>1</td>\n",
       "      <td>9</td>\n",
       "      <td>1</td>\n",
       "      <td>13</td>\n",
       "    </tr>\n",
       "  </tbody>\n",
       "</table>\n",
       "</div>"
      ],
      "text/plain": [
       "   Id                      date      org    tld  ccs  bcced  \\\n",
       "0   0 2016-07-02 05:32:58+00:00    iiitd  ac.in    4      0   \n",
       "1   1 2016-03-20 06:35:42+00:00    iiitd  ac.in    9      0   \n",
       "2   2 2018-01-16 14:46:11+00:00   github    com    1      0   \n",
       "3   3 2014-09-13 22:36:23+00:00  twitter    com    0      0   \n",
       "4   4 2017-09-26 13:50:52+00:00  udacity    com    0      0   \n",
       "\n",
       "               mail_type  images  urls  salutations  designation  \\\n",
       "0  multipart/alternative       0     0            1            0   \n",
       "1  multipart/alternative       0     0            1            0   \n",
       "2  multipart/alternative       2    26            0            0   \n",
       "3  multipart/alternative      10    94            0            0   \n",
       "4  multipart/alternative      10    40            1            0   \n",
       "\n",
       "   chars_in_subject  chars_in_body  label  month  day_of_week  hour  \n",
       "0                23           3020      0      7            5     5  \n",
       "1                44           5026      0      3            6     6  \n",
       "2                51           4792      0      1            1    14  \n",
       "3                66          47711      1      9            5    22  \n",
       "4                53          64317      1      9            1    13  "
      ]
     },
     "execution_count": 20,
     "metadata": {},
     "output_type": "execute_result"
    }
   ],
   "source": [
    "train = engineered_time_feature(train)\n",
    "train.head()"
   ]
  },
  {
   "cell_type": "code",
   "execution_count": 21,
   "metadata": {},
   "outputs": [
    {
     "data": {
      "text/html": [
       "<div>\n",
       "<style scoped>\n",
       "    .dataframe tbody tr th:only-of-type {\n",
       "        vertical-align: middle;\n",
       "    }\n",
       "\n",
       "    .dataframe tbody tr th {\n",
       "        vertical-align: top;\n",
       "    }\n",
       "\n",
       "    .dataframe thead th {\n",
       "        text-align: right;\n",
       "    }\n",
       "</style>\n",
       "<table border=\"1\" class=\"dataframe\">\n",
       "  <thead>\n",
       "    <tr style=\"text-align: right;\">\n",
       "      <th></th>\n",
       "      <th>Id</th>\n",
       "      <th>date</th>\n",
       "      <th>org</th>\n",
       "      <th>tld</th>\n",
       "      <th>ccs</th>\n",
       "      <th>bcced</th>\n",
       "      <th>mail_type</th>\n",
       "      <th>images</th>\n",
       "      <th>urls</th>\n",
       "      <th>salutations</th>\n",
       "      <th>designation</th>\n",
       "      <th>chars_in_subject</th>\n",
       "      <th>chars_in_body</th>\n",
       "      <th>month</th>\n",
       "      <th>day_of_week</th>\n",
       "      <th>hour</th>\n",
       "    </tr>\n",
       "  </thead>\n",
       "  <tbody>\n",
       "    <tr>\n",
       "      <th>0</th>\n",
       "      <td>0</td>\n",
       "      <td>2019-02-28 17:54:25+00:00</td>\n",
       "      <td>centralesupelec</td>\n",
       "      <td>fr</td>\n",
       "      <td>0</td>\n",
       "      <td>0</td>\n",
       "      <td>multipart/alternative</td>\n",
       "      <td>0</td>\n",
       "      <td>3</td>\n",
       "      <td>1</td>\n",
       "      <td>0</td>\n",
       "      <td>139</td>\n",
       "      <td>10544</td>\n",
       "      <td>2</td>\n",
       "      <td>3</td>\n",
       "      <td>17</td>\n",
       "    </tr>\n",
       "    <tr>\n",
       "      <th>1</th>\n",
       "      <td>1</td>\n",
       "      <td>2017-11-28 04:22:14+00:00</td>\n",
       "      <td>oneplusstore</td>\n",
       "      <td>in</td>\n",
       "      <td>0</td>\n",
       "      <td>0</td>\n",
       "      <td>multipart/alternative</td>\n",
       "      <td>9</td>\n",
       "      <td>42</td>\n",
       "      <td>0</td>\n",
       "      <td>0</td>\n",
       "      <td>56</td>\n",
       "      <td>44178</td>\n",
       "      <td>11</td>\n",
       "      <td>1</td>\n",
       "      <td>4</td>\n",
       "    </tr>\n",
       "    <tr>\n",
       "      <th>2</th>\n",
       "      <td>2</td>\n",
       "      <td>2017-07-11 11:50:54+00:00</td>\n",
       "      <td>entertainment</td>\n",
       "      <td>bookmyshow.com</td>\n",
       "      <td>0</td>\n",
       "      <td>0</td>\n",
       "      <td>text/html</td>\n",
       "      <td>17</td>\n",
       "      <td>41</td>\n",
       "      <td>0</td>\n",
       "      <td>0</td>\n",
       "      <td>37</td>\n",
       "      <td>24599</td>\n",
       "      <td>7</td>\n",
       "      <td>1</td>\n",
       "      <td>11</td>\n",
       "    </tr>\n",
       "    <tr>\n",
       "      <th>3</th>\n",
       "      <td>3</td>\n",
       "      <td>2016-04-12 07:18:18+00:00</td>\n",
       "      <td>rs-components</td>\n",
       "      <td>co.in</td>\n",
       "      <td>0</td>\n",
       "      <td>0</td>\n",
       "      <td>multipart/alternative</td>\n",
       "      <td>15</td>\n",
       "      <td>45</td>\n",
       "      <td>0</td>\n",
       "      <td>0</td>\n",
       "      <td>38</td>\n",
       "      <td>10774</td>\n",
       "      <td>4</td>\n",
       "      <td>1</td>\n",
       "      <td>7</td>\n",
       "    </tr>\n",
       "    <tr>\n",
       "      <th>4</th>\n",
       "      <td>4</td>\n",
       "      <td>2017-08-10 12:31:30+00:00</td>\n",
       "      <td>youtube</td>\n",
       "      <td>com</td>\n",
       "      <td>0</td>\n",
       "      <td>0</td>\n",
       "      <td>multipart/alternative</td>\n",
       "      <td>30</td>\n",
       "      <td>139</td>\n",
       "      <td>1</td>\n",
       "      <td>0</td>\n",
       "      <td>101</td>\n",
       "      <td>81760</td>\n",
       "      <td>8</td>\n",
       "      <td>3</td>\n",
       "      <td>12</td>\n",
       "    </tr>\n",
       "  </tbody>\n",
       "</table>\n",
       "</div>"
      ],
      "text/plain": [
       "   Id                      date              org             tld  ccs  bcced  \\\n",
       "0   0 2019-02-28 17:54:25+00:00  centralesupelec              fr    0      0   \n",
       "1   1 2017-11-28 04:22:14+00:00     oneplusstore              in    0      0   \n",
       "2   2 2017-07-11 11:50:54+00:00    entertainment  bookmyshow.com    0      0   \n",
       "3   3 2016-04-12 07:18:18+00:00    rs-components           co.in    0      0   \n",
       "4   4 2017-08-10 12:31:30+00:00          youtube             com    0      0   \n",
       "\n",
       "               mail_type  images  urls  salutations  designation  \\\n",
       "0  multipart/alternative       0     3            1            0   \n",
       "1  multipart/alternative       9    42            0            0   \n",
       "2              text/html      17    41            0            0   \n",
       "3  multipart/alternative      15    45            0            0   \n",
       "4  multipart/alternative      30   139            1            0   \n",
       "\n",
       "   chars_in_subject  chars_in_body  month  day_of_week  hour  \n",
       "0               139          10544      2            3    17  \n",
       "1                56          44178     11            1     4  \n",
       "2                37          24599      7            1    11  \n",
       "3                38          10774      4            1     7  \n",
       "4               101          81760      8            3    12  "
      ]
     },
     "execution_count": 21,
     "metadata": {},
     "output_type": "execute_result"
    }
   ],
   "source": [
    "test = engineered_time_feature(test)\n",
    "test.head()"
   ]
  },
  {
   "cell_type": "markdown",
   "metadata": {},
   "source": [
    "We can see the emails recevied at 9 and 8 o'clock have a better chance of being promotional email."
   ]
  },
  {
   "cell_type": "code",
   "execution_count": 22,
   "metadata": {},
   "outputs": [
    {
     "data": {
      "text/plain": [
       "<matplotlib.axes._subplots.AxesSubplot at 0x11f526ba8>"
      ]
     },
     "execution_count": 22,
     "metadata": {},
     "output_type": "execute_result"
    },
    {
     "data": {
      "image/png": "[encoded data removed]",
      "text/plain": [
       "<Figure size 432x288 with 1 Axes>"
      ]
     },
     "metadata": {
      "needs_background": "light"
     },
     "output_type": "display_data"
    }
   ],
   "source": [
    "sns.countplot(x = 'label', hue = 'hour', data = train,\n",
    "              hue_order = train.hour.value_counts().iloc[:5].index)"
   ]
  },
  {
   "cell_type": "markdown",
   "metadata": {},
   "source": [
    "It looks like we recevie more spam email during the summer."
   ]
  },
  {
   "cell_type": "code",
   "execution_count": 23,
   "metadata": {},
   "outputs": [
    {
     "data": {
      "text/plain": [
       "<matplotlib.axes._subplots.AxesSubplot at 0x12c249898>"
      ]
     },
     "execution_count": 23,
     "metadata": {},
     "output_type": "execute_result"
    },
    {
     "data": {
      "image/png": "[encoded data removed]",
      "text/plain": [
       "<Figure size 432x288 with 1 Axes>"
      ]
     },
     "metadata": {
      "needs_background": "light"
     },
     "output_type": "display_data"
    }
   ],
   "source": [
    "sns.countplot(x = 'label', hue = 'month', data = train)"
   ]
  },
  {
   "cell_type": "markdown",
   "metadata": {},
   "source": [
    "Day of week doesn't seem to play an important role when determine a email is promotional or not."
   ]
  },
  {
   "cell_type": "code",
   "execution_count": 24,
   "metadata": {},
   "outputs": [
    {
     "data": {
      "text/plain": [
       "<matplotlib.axes._subplots.AxesSubplot at 0x12c2ab0f0>"
      ]
     },
     "execution_count": 24,
     "metadata": {},
     "output_type": "execute_result"
    },
    {
     "data": {
      "image/png": "[encoded data removed]",
      "text/plain": [
       "<Figure size 432x288 with 1 Axes>"
      ]
     },
     "metadata": {
      "needs_background": "light"
     },
     "output_type": "display_data"
    }
   ],
   "source": [
    "sns.countplot(x = 'label', hue = 'day_of_week', data = train)"
   ]
  },
  {
   "cell_type": "markdown",
   "metadata": {},
   "source": [
    "From this plot we can see promotional email almost all promotional emails have 0 people cc'd in the email."
   ]
  },
  {
   "cell_type": "code",
   "execution_count": 25,
   "metadata": {},
   "outputs": [
    {
     "data": {
      "text/plain": [
       "<matplotlib.axes._subplots.AxesSubplot at 0x12c299048>"
      ]
     },
     "execution_count": 25,
     "metadata": {},
     "output_type": "execute_result"
    },
    {
     "data": {
      "image/png": "[encoded data removed]",
      "text/plain": [
       "<Figure size 432x288 with 1 Axes>"
      ]
     },
     "metadata": {
      "needs_background": "light"
     },
     "output_type": "display_data"
    }
   ],
   "source": [
    "sns.countplot(x = 'label', hue = 'ccs', data = train,\n",
    "              hue_order = train.ccs.value_counts().iloc[:5].index)"
   ]
  },
  {
   "cell_type": "markdown",
   "metadata": {},
   "source": [
    "bcced and mail_type might not be crucial in determine whether an email is promotional or not."
   ]
  },
  {
   "cell_type": "code",
   "execution_count": 26,
   "metadata": {},
   "outputs": [
    {
     "data": {
      "text/plain": [
       "<matplotlib.axes._subplots.AxesSubplot at 0x12c49bba8>"
      ]
     },
     "execution_count": 26,
     "metadata": {},
     "output_type": "execute_result"
    },
    {
     "data": {
      "image/png": "[encoded data removed]",
      "text/plain": [
       "<Figure size 432x288 with 1 Axes>"
      ]
     },
     "metadata": {
      "needs_background": "light"
     },
     "output_type": "display_data"
    }
   ],
   "source": [
    "sns.countplot(x = 'label', hue = 'bcced', data = train)"
   ]
  },
  {
   "cell_type": "markdown",
   "metadata": {},
   "source": [
    "It seems mail type has no significant impact. However, text/html does to seem have a higher proportion in the promotional email. "
   ]
  },
  {
   "cell_type": "code",
   "execution_count": 27,
   "metadata": {},
   "outputs": [
    {
     "data": {
      "text/plain": [
       "<matplotlib.axes._subplots.AxesSubplot at 0x12c55e978>"
      ]
     },
     "execution_count": 27,
     "metadata": {},
     "output_type": "execute_result"
    },
    {
     "data": {
      "image/png": "[encoded data removed]",
      "text/plain": [
       "<Figure size 432x288 with 1 Axes>"
      ]
     },
     "metadata": {
      "needs_background": "light"
     },
     "output_type": "display_data"
    }
   ],
   "source": [
    "sns.countplot(x = 'label', hue = 'mail_type', data = train,\n",
    "              hue_order = train.mail_type.value_counts().iloc[:5].index)"
   ]
  },
  {
   "cell_type": "markdown",
   "metadata": {},
   "source": [
    "The top level domain appeared most time for personal email is ac.in.  And for promotional email is com."
   ]
  },
  {
   "cell_type": "code",
   "execution_count": 28,
   "metadata": {},
   "outputs": [
    {
     "data": {
      "text/plain": [
       "<matplotlib.axes._subplots.AxesSubplot at 0x12c64a160>"
      ]
     },
     "execution_count": 28,
     "metadata": {},
     "output_type": "execute_result"
    },
    {
     "data": {
      "image/png": "[encoded data removed]",
      "text/plain": [
       "<Figure size 432x288 with 1 Axes>"
      ]
     },
     "metadata": {
      "needs_background": "light"
     },
     "output_type": "display_data"
    }
   ],
   "source": [
    "sns.countplot(x = 'label', hue = 'tld', data = train,\n",
    "              hue_order = train.tld.value_counts().iloc[:5].index)"
   ]
  },
  {
   "cell_type": "markdown",
   "metadata": {},
   "source": [
    "We can see all personal email’s sender’s organization is iiitd."
   ]
  },
  {
   "cell_type": "code",
   "execution_count": 29,
   "metadata": {},
   "outputs": [
    {
     "data": {
      "text/plain": [
       "<matplotlib.axes._subplots.AxesSubplot at 0x12c730dd8>"
      ]
     },
     "execution_count": 29,
     "metadata": {},
     "output_type": "execute_result"
    },
    {
     "data": {
      "image/png": "[encoded data removed]",
      "text/plain": [
       "<Figure size 432x288 with 1 Axes>"
      ]
     },
     "metadata": {
      "needs_background": "light"
     },
     "output_type": "display_data"
    }
   ],
   "source": [
    "sns.countplot(x = 'label', hue = 'org', data = train,\n",
    "              hue_order = train.org.value_counts().iloc[:5].index)"
   ]
  },
  {
   "cell_type": "markdown",
   "metadata": {},
   "source": [
    "Here is almost the final dataframe we will feed our model, just one more step."
   ]
  },
  {
   "cell_type": "code",
   "execution_count": 30,
   "metadata": {},
   "outputs": [
    {
     "data": {
      "text/html": [
       "<div>\n",
       "<style scoped>\n",
       "    .dataframe tbody tr th:only-of-type {\n",
       "        vertical-align: middle;\n",
       "    }\n",
       "\n",
       "    .dataframe tbody tr th {\n",
       "        vertical-align: top;\n",
       "    }\n",
       "\n",
       "    .dataframe thead th {\n",
       "        text-align: right;\n",
       "    }\n",
       "</style>\n",
       "<table border=\"1\" class=\"dataframe\">\n",
       "  <thead>\n",
       "    <tr style=\"text-align: right;\">\n",
       "      <th></th>\n",
       "      <th>label</th>\n",
       "      <th>org</th>\n",
       "      <th>tld</th>\n",
       "      <th>mail_type</th>\n",
       "      <th>ccs</th>\n",
       "      <th>bcced</th>\n",
       "      <th>images</th>\n",
       "      <th>urls</th>\n",
       "      <th>salutations</th>\n",
       "      <th>designation</th>\n",
       "      <th>chars_in_subject</th>\n",
       "      <th>chars_in_body</th>\n",
       "      <th>month</th>\n",
       "      <th>day_of_week</th>\n",
       "      <th>hour</th>\n",
       "    </tr>\n",
       "  </thead>\n",
       "  <tbody>\n",
       "    <tr>\n",
       "      <th>0</th>\n",
       "      <td>0</td>\n",
       "      <td>iiitd</td>\n",
       "      <td>ac.in</td>\n",
       "      <td>multipart/alternative</td>\n",
       "      <td>4</td>\n",
       "      <td>0</td>\n",
       "      <td>0</td>\n",
       "      <td>0</td>\n",
       "      <td>1</td>\n",
       "      <td>0</td>\n",
       "      <td>23</td>\n",
       "      <td>3020</td>\n",
       "      <td>7</td>\n",
       "      <td>5</td>\n",
       "      <td>5</td>\n",
       "    </tr>\n",
       "    <tr>\n",
       "      <th>1</th>\n",
       "      <td>0</td>\n",
       "      <td>iiitd</td>\n",
       "      <td>ac.in</td>\n",
       "      <td>multipart/alternative</td>\n",
       "      <td>9</td>\n",
       "      <td>0</td>\n",
       "      <td>0</td>\n",
       "      <td>0</td>\n",
       "      <td>1</td>\n",
       "      <td>0</td>\n",
       "      <td>44</td>\n",
       "      <td>5026</td>\n",
       "      <td>3</td>\n",
       "      <td>6</td>\n",
       "      <td>6</td>\n",
       "    </tr>\n",
       "    <tr>\n",
       "      <th>2</th>\n",
       "      <td>0</td>\n",
       "      <td>github</td>\n",
       "      <td>com</td>\n",
       "      <td>multipart/alternative</td>\n",
       "      <td>1</td>\n",
       "      <td>0</td>\n",
       "      <td>2</td>\n",
       "      <td>26</td>\n",
       "      <td>0</td>\n",
       "      <td>0</td>\n",
       "      <td>51</td>\n",
       "      <td>4792</td>\n",
       "      <td>1</td>\n",
       "      <td>1</td>\n",
       "      <td>14</td>\n",
       "    </tr>\n",
       "    <tr>\n",
       "      <th>3</th>\n",
       "      <td>1</td>\n",
       "      <td>twitter</td>\n",
       "      <td>com</td>\n",
       "      <td>multipart/alternative</td>\n",
       "      <td>0</td>\n",
       "      <td>0</td>\n",
       "      <td>10</td>\n",
       "      <td>94</td>\n",
       "      <td>0</td>\n",
       "      <td>0</td>\n",
       "      <td>66</td>\n",
       "      <td>47711</td>\n",
       "      <td>9</td>\n",
       "      <td>5</td>\n",
       "      <td>22</td>\n",
       "    </tr>\n",
       "    <tr>\n",
       "      <th>4</th>\n",
       "      <td>1</td>\n",
       "      <td>udacity</td>\n",
       "      <td>com</td>\n",
       "      <td>multipart/alternative</td>\n",
       "      <td>0</td>\n",
       "      <td>0</td>\n",
       "      <td>10</td>\n",
       "      <td>40</td>\n",
       "      <td>1</td>\n",
       "      <td>0</td>\n",
       "      <td>53</td>\n",
       "      <td>64317</td>\n",
       "      <td>9</td>\n",
       "      <td>1</td>\n",
       "      <td>13</td>\n",
       "    </tr>\n",
       "  </tbody>\n",
       "</table>\n",
       "</div>"
      ],
      "text/plain": [
       "   label      org    tld              mail_type  ccs  bcced  images  urls  \\\n",
       "0      0    iiitd  ac.in  multipart/alternative    4      0       0     0   \n",
       "1      0    iiitd  ac.in  multipart/alternative    9      0       0     0   \n",
       "2      0   github    com  multipart/alternative    1      0       2    26   \n",
       "3      1  twitter    com  multipart/alternative    0      0      10    94   \n",
       "4      1  udacity    com  multipart/alternative    0      0      10    40   \n",
       "\n",
       "   salutations  designation  chars_in_subject  chars_in_body  month  \\\n",
       "0            1            0                23           3020      7   \n",
       "1            1            0                44           5026      3   \n",
       "2            0            0                51           4792      1   \n",
       "3            0            0                66          47711      9   \n",
       "4            1            0                53          64317      9   \n",
       "\n",
       "   day_of_week  hour  \n",
       "0            5     5  \n",
       "1            6     6  \n",
       "2            1    14  \n",
       "3            5    22  \n",
       "4            1    13  "
      ]
     },
     "execution_count": 30,
     "metadata": {},
     "output_type": "execute_result"
    }
   ],
   "source": [
    "train_df = train[[\"label\",\"org\",\"tld\",\"mail_type\",\"ccs\",\"bcced\",\"images\",\"urls\",\"salutations\",\"designation\",\"chars_in_subject\",\"chars_in_body\",\"month\",\"day_of_week\",\"hour\"]]\n",
    "train_df.head()"
   ]
  },
  {
   "cell_type": "code",
   "execution_count": 31,
   "metadata": {},
   "outputs": [
    {
     "data": {
      "text/html": [
       "<div>\n",
       "<style scoped>\n",
       "    .dataframe tbody tr th:only-of-type {\n",
       "        vertical-align: middle;\n",
       "    }\n",
       "\n",
       "    .dataframe tbody tr th {\n",
       "        vertical-align: top;\n",
       "    }\n",
       "\n",
       "    .dataframe thead th {\n",
       "        text-align: right;\n",
       "    }\n",
       "</style>\n",
       "<table border=\"1\" class=\"dataframe\">\n",
       "  <thead>\n",
       "    <tr style=\"text-align: right;\">\n",
       "      <th></th>\n",
       "      <th>org</th>\n",
       "      <th>tld</th>\n",
       "      <th>mail_type</th>\n",
       "      <th>ccs</th>\n",
       "      <th>bcced</th>\n",
       "      <th>images</th>\n",
       "      <th>urls</th>\n",
       "      <th>salutations</th>\n",
       "      <th>designation</th>\n",
       "      <th>chars_in_subject</th>\n",
       "      <th>chars_in_body</th>\n",
       "      <th>month</th>\n",
       "      <th>day_of_week</th>\n",
       "      <th>hour</th>\n",
       "    </tr>\n",
       "  </thead>\n",
       "  <tbody>\n",
       "    <tr>\n",
       "      <th>0</th>\n",
       "      <td>centralesupelec</td>\n",
       "      <td>fr</td>\n",
       "      <td>multipart/alternative</td>\n",
       "      <td>0</td>\n",
       "      <td>0</td>\n",
       "      <td>0</td>\n",
       "      <td>3</td>\n",
       "      <td>1</td>\n",
       "      <td>0</td>\n",
       "      <td>139</td>\n",
       "      <td>10544</td>\n",
       "      <td>2</td>\n",
       "      <td>3</td>\n",
       "      <td>17</td>\n",
       "    </tr>\n",
       "    <tr>\n",
       "      <th>1</th>\n",
       "      <td>oneplusstore</td>\n",
       "      <td>in</td>\n",
       "      <td>multipart/alternative</td>\n",
       "      <td>0</td>\n",
       "      <td>0</td>\n",
       "      <td>9</td>\n",
       "      <td>42</td>\n",
       "      <td>0</td>\n",
       "      <td>0</td>\n",
       "      <td>56</td>\n",
       "      <td>44178</td>\n",
       "      <td>11</td>\n",
       "      <td>1</td>\n",
       "      <td>4</td>\n",
       "    </tr>\n",
       "    <tr>\n",
       "      <th>2</th>\n",
       "      <td>entertainment</td>\n",
       "      <td>bookmyshow.com</td>\n",
       "      <td>text/html</td>\n",
       "      <td>0</td>\n",
       "      <td>0</td>\n",
       "      <td>17</td>\n",
       "      <td>41</td>\n",
       "      <td>0</td>\n",
       "      <td>0</td>\n",
       "      <td>37</td>\n",
       "      <td>24599</td>\n",
       "      <td>7</td>\n",
       "      <td>1</td>\n",
       "      <td>11</td>\n",
       "    </tr>\n",
       "    <tr>\n",
       "      <th>3</th>\n",
       "      <td>rs-components</td>\n",
       "      <td>co.in</td>\n",
       "      <td>multipart/alternative</td>\n",
       "      <td>0</td>\n",
       "      <td>0</td>\n",
       "      <td>15</td>\n",
       "      <td>45</td>\n",
       "      <td>0</td>\n",
       "      <td>0</td>\n",
       "      <td>38</td>\n",
       "      <td>10774</td>\n",
       "      <td>4</td>\n",
       "      <td>1</td>\n",
       "      <td>7</td>\n",
       "    </tr>\n",
       "    <tr>\n",
       "      <th>4</th>\n",
       "      <td>youtube</td>\n",
       "      <td>com</td>\n",
       "      <td>multipart/alternative</td>\n",
       "      <td>0</td>\n",
       "      <td>0</td>\n",
       "      <td>30</td>\n",
       "      <td>139</td>\n",
       "      <td>1</td>\n",
       "      <td>0</td>\n",
       "      <td>101</td>\n",
       "      <td>81760</td>\n",
       "      <td>8</td>\n",
       "      <td>3</td>\n",
       "      <td>12</td>\n",
       "    </tr>\n",
       "  </tbody>\n",
       "</table>\n",
       "</div>"
      ],
      "text/plain": [
       "               org             tld              mail_type  ccs  bcced  images  \\\n",
       "0  centralesupelec              fr  multipart/alternative    0      0       0   \n",
       "1     oneplusstore              in  multipart/alternative    0      0       9   \n",
       "2    entertainment  bookmyshow.com              text/html    0      0      17   \n",
       "3    rs-components           co.in  multipart/alternative    0      0      15   \n",
       "4          youtube             com  multipart/alternative    0      0      30   \n",
       "\n",
       "   urls  salutations  designation  chars_in_subject  chars_in_body  month  \\\n",
       "0     3            1            0               139          10544      2   \n",
       "1    42            0            0                56          44178     11   \n",
       "2    41            0            0                37          24599      7   \n",
       "3    45            0            0                38          10774      4   \n",
       "4   139            1            0               101          81760      8   \n",
       "\n",
       "   day_of_week  hour  \n",
       "0            3    17  \n",
       "1            1     4  \n",
       "2            1    11  \n",
       "3            1     7  \n",
       "4            3    12  "
      ]
     },
     "execution_count": 31,
     "metadata": {},
     "output_type": "execute_result"
    }
   ],
   "source": [
    "test_df = test[[\"org\",\"tld\",\"mail_type\",\"ccs\",\"bcced\",\"images\",\"urls\",\"salutations\",\"designation\",\"chars_in_subject\",\"chars_in_body\",\"month\",\"day_of_week\",\"hour\"]]\n",
    "test_df.head()"
   ]
  },
  {
   "cell_type": "markdown",
   "metadata": {},
   "source": [
    "We need to label encode org tld and mail_type in order to feed them to the model"
   ]
  },
  {
   "cell_type": "code",
   "execution_count": 32,
   "metadata": {},
   "outputs": [],
   "source": [
    "from sklearn import preprocessing\n",
    "le = preprocessing.LabelEncoder()\n",
    "le.fit(train['org'])\n",
    "encode_org = le.transform(train['org'])\n",
    "le.fit(train['tld'])\n",
    "encode_tld = le.transform(train['tld'])\n",
    "le.fit(train['mail_type'])\n",
    "encode_mail_type = le.transform(train['mail_type'])"
   ]
  },
  {
   "cell_type": "code",
   "execution_count": 33,
   "metadata": {},
   "outputs": [
    {
     "name": "stderr",
     "output_type": "stream",
     "text": [
      "/usr/local/lib/python3.7/site-packages/ipykernel_launcher.py:1: SettingWithCopyWarning: \n",
      "A value is trying to be set on a copy of a slice from a DataFrame.\n",
      "Try using .loc[row_indexer,col_indexer] = value instead\n",
      "\n",
      "See the caveats in the documentation: http://pandas.pydata.org/pandas-docs/stable/indexing.html#indexing-view-versus-copy\n",
      "  \"\"\"Entry point for launching an IPython kernel.\n",
      "/usr/local/lib/python3.7/site-packages/ipykernel_launcher.py:2: SettingWithCopyWarning: \n",
      "A value is trying to be set on a copy of a slice from a DataFrame.\n",
      "Try using .loc[row_indexer,col_indexer] = value instead\n",
      "\n",
      "See the caveats in the documentation: http://pandas.pydata.org/pandas-docs/stable/indexing.html#indexing-view-versus-copy\n",
      "  \n",
      "/usr/local/lib/python3.7/site-packages/ipykernel_launcher.py:3: SettingWithCopyWarning: \n",
      "A value is trying to be set on a copy of a slice from a DataFrame.\n",
      "Try using .loc[row_indexer,col_indexer] = value instead\n",
      "\n",
      "See the caveats in the documentation: http://pandas.pydata.org/pandas-docs/stable/indexing.html#indexing-view-versus-copy\n",
      "  This is separate from the ipykernel package so we can avoid doing imports until\n"
     ]
    },
    {
     "data": {
      "text/html": [
       "<div>\n",
       "<style scoped>\n",
       "    .dataframe tbody tr th:only-of-type {\n",
       "        vertical-align: middle;\n",
       "    }\n",
       "\n",
       "    .dataframe tbody tr th {\n",
       "        vertical-align: top;\n",
       "    }\n",
       "\n",
       "    .dataframe thead th {\n",
       "        text-align: right;\n",
       "    }\n",
       "</style>\n",
       "<table border=\"1\" class=\"dataframe\">\n",
       "  <thead>\n",
       "    <tr style=\"text-align: right;\">\n",
       "      <th></th>\n",
       "      <th>label</th>\n",
       "      <th>org</th>\n",
       "      <th>tld</th>\n",
       "      <th>mail_type</th>\n",
       "      <th>ccs</th>\n",
       "      <th>bcced</th>\n",
       "      <th>images</th>\n",
       "      <th>urls</th>\n",
       "      <th>salutations</th>\n",
       "      <th>designation</th>\n",
       "      <th>chars_in_subject</th>\n",
       "      <th>chars_in_body</th>\n",
       "      <th>month</th>\n",
       "      <th>day_of_week</th>\n",
       "      <th>hour</th>\n",
       "    </tr>\n",
       "  </thead>\n",
       "  <tbody>\n",
       "    <tr>\n",
       "      <th>0</th>\n",
       "      <td>0</td>\n",
       "      <td>115</td>\n",
       "      <td>3</td>\n",
       "      <td>2</td>\n",
       "      <td>4</td>\n",
       "      <td>0</td>\n",
       "      <td>0</td>\n",
       "      <td>0</td>\n",
       "      <td>1</td>\n",
       "      <td>0</td>\n",
       "      <td>23</td>\n",
       "      <td>3020</td>\n",
       "      <td>7</td>\n",
       "      <td>5</td>\n",
       "      <td>5</td>\n",
       "    </tr>\n",
       "    <tr>\n",
       "      <th>1</th>\n",
       "      <td>0</td>\n",
       "      <td>115</td>\n",
       "      <td>3</td>\n",
       "      <td>2</td>\n",
       "      <td>9</td>\n",
       "      <td>0</td>\n",
       "      <td>0</td>\n",
       "      <td>0</td>\n",
       "      <td>1</td>\n",
       "      <td>0</td>\n",
       "      <td>44</td>\n",
       "      <td>5026</td>\n",
       "      <td>3</td>\n",
       "      <td>6</td>\n",
       "      <td>6</td>\n",
       "    </tr>\n",
       "    <tr>\n",
       "      <th>2</th>\n",
       "      <td>0</td>\n",
       "      <td>100</td>\n",
       "      <td>22</td>\n",
       "      <td>2</td>\n",
       "      <td>1</td>\n",
       "      <td>0</td>\n",
       "      <td>2</td>\n",
       "      <td>26</td>\n",
       "      <td>0</td>\n",
       "      <td>0</td>\n",
       "      <td>51</td>\n",
       "      <td>4792</td>\n",
       "      <td>1</td>\n",
       "      <td>1</td>\n",
       "      <td>14</td>\n",
       "    </tr>\n",
       "    <tr>\n",
       "      <th>3</th>\n",
       "      <td>1</td>\n",
       "      <td>240</td>\n",
       "      <td>22</td>\n",
       "      <td>2</td>\n",
       "      <td>0</td>\n",
       "      <td>0</td>\n",
       "      <td>10</td>\n",
       "      <td>94</td>\n",
       "      <td>0</td>\n",
       "      <td>0</td>\n",
       "      <td>66</td>\n",
       "      <td>47711</td>\n",
       "      <td>9</td>\n",
       "      <td>5</td>\n",
       "      <td>22</td>\n",
       "    </tr>\n",
       "    <tr>\n",
       "      <th>4</th>\n",
       "      <td>1</td>\n",
       "      <td>242</td>\n",
       "      <td>22</td>\n",
       "      <td>2</td>\n",
       "      <td>0</td>\n",
       "      <td>0</td>\n",
       "      <td>10</td>\n",
       "      <td>40</td>\n",
       "      <td>1</td>\n",
       "      <td>0</td>\n",
       "      <td>53</td>\n",
       "      <td>64317</td>\n",
       "      <td>9</td>\n",
       "      <td>1</td>\n",
       "      <td>13</td>\n",
       "    </tr>\n",
       "  </tbody>\n",
       "</table>\n",
       "</div>"
      ],
      "text/plain": [
       "   label  org  tld  mail_type  ccs  bcced  images  urls  salutations  \\\n",
       "0      0  115    3          2    4      0       0     0            1   \n",
       "1      0  115    3          2    9      0       0     0            1   \n",
       "2      0  100   22          2    1      0       2    26            0   \n",
       "3      1  240   22          2    0      0      10    94            0   \n",
       "4      1  242   22          2    0      0      10    40            1   \n",
       "\n",
       "   designation  chars_in_subject  chars_in_body  month  day_of_week  hour  \n",
       "0            0                23           3020      7            5     5  \n",
       "1            0                44           5026      3            6     6  \n",
       "2            0                51           4792      1            1    14  \n",
       "3            0                66          47711      9            5    22  \n",
       "4            0                53          64317      9            1    13  "
      ]
     },
     "execution_count": 33,
     "metadata": {},
     "output_type": "execute_result"
    }
   ],
   "source": [
    "train_df['org'] = encode_org\n",
    "train_df['tld'] = encode_tld\n",
    "train_df['mail_type'] = encode_mail_type\n",
    "train_df.head()"
   ]
  },
  {
   "cell_type": "code",
   "execution_count": 34,
   "metadata": {},
   "outputs": [],
   "source": [
    "le = preprocessing.LabelEncoder()\n",
    "le.fit(test['org'])\n",
    "encode_org = le.transform(test['org'])\n",
    "le.fit(test['tld'])\n",
    "encode_tld = le.transform(test['tld'])\n",
    "le.fit(test['mail_type'])\n",
    "encode_mail_type = le.transform(test['mail_type'])"
   ]
  },
  {
   "cell_type": "code",
   "execution_count": 35,
   "metadata": {},
   "outputs": [
    {
     "name": "stderr",
     "output_type": "stream",
     "text": [
      "/usr/local/lib/python3.7/site-packages/ipykernel_launcher.py:1: SettingWithCopyWarning: \n",
      "A value is trying to be set on a copy of a slice from a DataFrame.\n",
      "Try using .loc[row_indexer,col_indexer] = value instead\n",
      "\n",
      "See the caveats in the documentation: http://pandas.pydata.org/pandas-docs/stable/indexing.html#indexing-view-versus-copy\n",
      "  \"\"\"Entry point for launching an IPython kernel.\n",
      "/usr/local/lib/python3.7/site-packages/ipykernel_launcher.py:2: SettingWithCopyWarning: \n",
      "A value is trying to be set on a copy of a slice from a DataFrame.\n",
      "Try using .loc[row_indexer,col_indexer] = value instead\n",
      "\n",
      "See the caveats in the documentation: http://pandas.pydata.org/pandas-docs/stable/indexing.html#indexing-view-versus-copy\n",
      "  \n",
      "/usr/local/lib/python3.7/site-packages/ipykernel_launcher.py:3: SettingWithCopyWarning: \n",
      "A value is trying to be set on a copy of a slice from a DataFrame.\n",
      "Try using .loc[row_indexer,col_indexer] = value instead\n",
      "\n",
      "See the caveats in the documentation: http://pandas.pydata.org/pandas-docs/stable/indexing.html#indexing-view-versus-copy\n",
      "  This is separate from the ipykernel package so we can avoid doing imports until\n"
     ]
    },
    {
     "data": {
      "text/html": [
       "<div>\n",
       "<style scoped>\n",
       "    .dataframe tbody tr th:only-of-type {\n",
       "        vertical-align: middle;\n",
       "    }\n",
       "\n",
       "    .dataframe tbody tr th {\n",
       "        vertical-align: top;\n",
       "    }\n",
       "\n",
       "    .dataframe thead th {\n",
       "        text-align: right;\n",
       "    }\n",
       "</style>\n",
       "<table border=\"1\" class=\"dataframe\">\n",
       "  <thead>\n",
       "    <tr style=\"text-align: right;\">\n",
       "      <th></th>\n",
       "      <th>org</th>\n",
       "      <th>tld</th>\n",
       "      <th>mail_type</th>\n",
       "      <th>ccs</th>\n",
       "      <th>bcced</th>\n",
       "      <th>images</th>\n",
       "      <th>urls</th>\n",
       "      <th>salutations</th>\n",
       "      <th>designation</th>\n",
       "      <th>chars_in_subject</th>\n",
       "      <th>chars_in_body</th>\n",
       "      <th>month</th>\n",
       "      <th>day_of_week</th>\n",
       "      <th>hour</th>\n",
       "    </tr>\n",
       "  </thead>\n",
       "  <tbody>\n",
       "    <tr>\n",
       "      <th>0</th>\n",
       "      <td>27</td>\n",
       "      <td>29</td>\n",
       "      <td>2</td>\n",
       "      <td>0</td>\n",
       "      <td>0</td>\n",
       "      <td>0</td>\n",
       "      <td>3</td>\n",
       "      <td>1</td>\n",
       "      <td>0</td>\n",
       "      <td>139</td>\n",
       "      <td>10544</td>\n",
       "      <td>2</td>\n",
       "      <td>3</td>\n",
       "      <td>17</td>\n",
       "    </tr>\n",
       "    <tr>\n",
       "      <th>1</th>\n",
       "      <td>145</td>\n",
       "      <td>47</td>\n",
       "      <td>2</td>\n",
       "      <td>0</td>\n",
       "      <td>0</td>\n",
       "      <td>9</td>\n",
       "      <td>42</td>\n",
       "      <td>0</td>\n",
       "      <td>0</td>\n",
       "      <td>56</td>\n",
       "      <td>44178</td>\n",
       "      <td>11</td>\n",
       "      <td>1</td>\n",
       "      <td>4</td>\n",
       "    </tr>\n",
       "    <tr>\n",
       "      <th>2</th>\n",
       "      <td>63</td>\n",
       "      <td>8</td>\n",
       "      <td>5</td>\n",
       "      <td>0</td>\n",
       "      <td>0</td>\n",
       "      <td>17</td>\n",
       "      <td>41</td>\n",
       "      <td>0</td>\n",
       "      <td>0</td>\n",
       "      <td>37</td>\n",
       "      <td>24599</td>\n",
       "      <td>7</td>\n",
       "      <td>1</td>\n",
       "      <td>11</td>\n",
       "    </tr>\n",
       "    <tr>\n",
       "      <th>3</th>\n",
       "      <td>170</td>\n",
       "      <td>15</td>\n",
       "      <td>2</td>\n",
       "      <td>0</td>\n",
       "      <td>0</td>\n",
       "      <td>15</td>\n",
       "      <td>45</td>\n",
       "      <td>0</td>\n",
       "      <td>0</td>\n",
       "      <td>38</td>\n",
       "      <td>10774</td>\n",
       "      <td>4</td>\n",
       "      <td>1</td>\n",
       "      <td>7</td>\n",
       "    </tr>\n",
       "    <tr>\n",
       "      <th>4</th>\n",
       "      <td>210</td>\n",
       "      <td>17</td>\n",
       "      <td>2</td>\n",
       "      <td>0</td>\n",
       "      <td>0</td>\n",
       "      <td>30</td>\n",
       "      <td>139</td>\n",
       "      <td>1</td>\n",
       "      <td>0</td>\n",
       "      <td>101</td>\n",
       "      <td>81760</td>\n",
       "      <td>8</td>\n",
       "      <td>3</td>\n",
       "      <td>12</td>\n",
       "    </tr>\n",
       "  </tbody>\n",
       "</table>\n",
       "</div>"
      ],
      "text/plain": [
       "   org  tld  mail_type  ccs  bcced  images  urls  salutations  designation  \\\n",
       "0   27   29          2    0      0       0     3            1            0   \n",
       "1  145   47          2    0      0       9    42            0            0   \n",
       "2   63    8          5    0      0      17    41            0            0   \n",
       "3  170   15          2    0      0      15    45            0            0   \n",
       "4  210   17          2    0      0      30   139            1            0   \n",
       "\n",
       "   chars_in_subject  chars_in_body  month  day_of_week  hour  \n",
       "0               139          10544      2            3    17  \n",
       "1                56          44178     11            1     4  \n",
       "2                37          24599      7            1    11  \n",
       "3                38          10774      4            1     7  \n",
       "4               101          81760      8            3    12  "
      ]
     },
     "execution_count": 35,
     "metadata": {},
     "output_type": "execute_result"
    }
   ],
   "source": [
    "test_df['org'] = encode_org\n",
    "test_df['tld'] = encode_tld\n",
    "test_df['mail_type'] = encode_mail_type\n",
    "test_df.head()"
   ]
  },
  {
   "cell_type": "code",
   "execution_count": 36,
   "metadata": {},
   "outputs": [],
   "source": [
    "import xgboost as xgb\n",
    "from sklearn.linear_model import LogisticRegression\n",
    "from sklearn.model_selection import train_test_split\n",
    "from sklearn.metrics import accuracy_score\n",
    "from sklearn.metrics import f1_score\n",
    "from sklearn.metrics import confusion_matrix"
   ]
  },
  {
   "cell_type": "code",
   "execution_count": 37,
   "metadata": {},
   "outputs": [],
   "source": [
    "X = train_df[train_df.columns[1:]]\n",
    "y = train_df[train_df.columns[0]]"
   ]
  },
  {
   "cell_type": "markdown",
   "metadata": {},
   "source": [
    "Split data to train and val to test which model might be better"
   ]
  },
  {
   "cell_type": "code",
   "execution_count": 38,
   "metadata": {},
   "outputs": [],
   "source": [
    "seed = 1\n",
    "test_size = 0.33\n",
    "X_train, X_val, y_train, y_val = train_test_split(X, y, test_size=test_size, random_state=seed)"
   ]
  },
  {
   "cell_type": "markdown",
   "metadata": {},
   "source": [
    "Logestic regression has f score of 0.9692."
   ]
  },
  {
   "cell_type": "code",
   "execution_count": 39,
   "metadata": {},
   "outputs": [
    {
     "name": "stdout",
     "output_type": "stream",
     "text": [
      "0.9692332736447989\n"
     ]
    },
    {
     "name": "stderr",
     "output_type": "stream",
     "text": [
      "/usr/local/lib/python3.7/site-packages/sklearn/linear_model/logistic.py:433: FutureWarning: Default solver will be changed to 'lbfgs' in 0.22. Specify a solver to silence this warning.\n",
      "  FutureWarning)\n"
     ]
    }
   ],
   "source": [
    "clf = LogisticRegression().fit(X_train, y_train)\n",
    "y_pred = clf.predict(X_val)\n",
    "predictions = [round(value) for value in y_pred]\n",
    "f1Score = f1_score(y_val, predictions)\n",
    "print(f1Score)"
   ]
  },
  {
   "cell_type": "markdown",
   "metadata": {},
   "source": [
    "XGB classifier(uses gardient boosting) has a better performance, with f socre of 0.9990."
   ]
  },
  {
   "cell_type": "code",
   "execution_count": 40,
   "metadata": {},
   "outputs": [
    {
     "data": {
      "text/plain": [
       "XGBClassifier(base_score=0.5, booster='gbtree', colsample_bylevel=1,\n",
       "       colsample_bynode=1, colsample_bytree=1, gamma=0, learning_rate=0.1,\n",
       "       max_delta_step=0, max_depth=3, min_child_weight=1, missing=None,\n",
       "       n_estimators=200, n_jobs=1, nthread=None,\n",
       "       objective='binary:logistic', random_state=0, reg_alpha=0,\n",
       "       reg_lambda=1, scale_pos_weight=1, seed=None, silent=None,\n",
       "       subsample=1, verbosity=1)"
      ]
     },
     "execution_count": 40,
     "metadata": {},
     "output_type": "execute_result"
    }
   ],
   "source": [
    "clf = xgb.XGBClassifier(n_estimators = 200)\n",
    "clf.fit(X_train, y_train)"
   ]
  },
  {
   "cell_type": "markdown",
   "metadata": {},
   "source": [
    "Here is the feature importance of our model."
   ]
  },
  {
   "cell_type": "code",
   "execution_count": 41,
   "metadata": {},
   "outputs": [
    {
     "data": {
      "text/plain": [
       "<matplotlib.axes._subplots.AxesSubplot at 0x12d794278>"
      ]
     },
     "execution_count": 41,
     "metadata": {},
     "output_type": "execute_result"
    },
    {
     "data": {
      "image/png": "[encoded data removed]",
      "text/plain": [
       "<Figure size 432x288 with 1 Axes>"
      ]
     },
     "metadata": {
      "needs_background": "light"
     },
     "output_type": "display_data"
    }
   ],
   "source": [
    "xgb.plot_importance(clf)"
   ]
  },
  {
   "cell_type": "code",
   "execution_count": 42,
   "metadata": {},
   "outputs": [],
   "source": [
    "y_pred = clf.predict(X_val)\n",
    "predictions = [round(value) for value in y_pred]"
   ]
  },
  {
   "cell_type": "code",
   "execution_count": 43,
   "metadata": {},
   "outputs": [
    {
     "name": "stdout",
     "output_type": "stream",
     "text": [
      "accuracy is 99.87074536837571\n"
     ]
    }
   ],
   "source": [
    "accuracy = accuracy_score(y_val, predictions)\n",
    "print(f'accuracy is {accuracy * 100}')"
   ]
  },
  {
   "cell_type": "code",
   "execution_count": 44,
   "metadata": {},
   "outputs": [
    {
     "name": "stdout",
     "output_type": "stream",
     "text": [
      "F1 score is 99.90108803165182\n"
     ]
    }
   ],
   "source": [
    "f1Score = f1_score(y_val, predictions)\n",
    "print(f'F1 score is {f1Score * 100}')"
   ]
  },
  {
   "cell_type": "code",
   "execution_count": 45,
   "metadata": {},
   "outputs": [
    {
     "data": {
      "text/plain": [
       "array([[1606,    5],\n",
       "       [   1, 3030]])"
      ]
     },
     "execution_count": 45,
     "metadata": {},
     "output_type": "execute_result"
    }
   ],
   "source": [
    "confusion_matrix(y_val, predictions)"
   ]
  },
  {
   "cell_type": "markdown",
   "metadata": {},
   "source": [
    "Tuning the max_depth parameter."
   ]
  },
  {
   "cell_type": "code",
   "execution_count": 46,
   "metadata": {},
   "outputs": [
    {
     "name": "stdout",
     "output_type": "stream",
     "text": [
      "F1 score is 99.40769990128332\n",
      "F1 score is 99.73640856672158\n",
      "F1 score is 99.88462172408109\n",
      "F1 score is 99.88462172408109\n",
      "F1 score is 99.88462172408109\n",
      "F1 score is 99.86811737553577\n",
      "F1 score is 99.86811737553577\n",
      "F1 score is 99.86811737553577\n",
      "F1 score is 99.86811737553577\n",
      "F1 score is 99.86811737553577\n"
     ]
    }
   ],
   "source": [
    "f1_depth = []\n",
    "index_depth = [1,2,3,4,5,6,7,8,9,10]\n",
    "for i in range(1, 11, 1):\n",
    "    clf = xgb.XGBClassifier(max_depth=i)\n",
    "    clf.fit(X_train, y_train)\n",
    "    y_pred = clf.predict(X_val)\n",
    "    predictions = [round(value) for value in y_pred]\n",
    "    f1Score = f1_score(y_val, predictions)\n",
    "    print(f'F1 score is {f1Score * 100}')\n",
    "    f1_depth.append(f1Score)"
   ]
  },
  {
   "cell_type": "code",
   "execution_count": 47,
   "metadata": {},
   "outputs": [
    {
     "data": {
      "image/png": "[encoded data removed]",
      "text/plain": [
       "<Figure size 576x576 with 1 Axes>"
      ]
     },
     "metadata": {
      "needs_background": "light"
     },
     "output_type": "display_data"
    }
   ],
   "source": [
    "plt.figure(figsize=(8,8))\n",
    "plt.plot(index_depth, f1_depth)\n",
    "plt.title('tuning max_depth')\n",
    "plt.xlabel('max depth')\n",
    "plt.ylabel('f1 score')\n",
    "plt.show()"
   ]
  },
  {
   "cell_type": "markdown",
   "metadata": {},
   "source": [
    "Tuning the n_estimaters parameter."
   ]
  },
  {
   "cell_type": "code",
   "execution_count": 48,
   "metadata": {},
   "outputs": [
    {
     "name": "stdout",
     "output_type": "stream",
     "text": [
      "F1 score is 99.88462172408109\n",
      "F1 score is 99.91755976916737\n",
      "F1 score is 99.90108803165182\n",
      "F1 score is 99.90108803165182\n",
      "F1 score is 99.91755976916737\n",
      "F1 score is 99.91755976916737\n",
      "F1 score is 99.91755976916737\n",
      "F1 score is 99.91755976916737\n",
      "F1 score is 99.91755976916737\n"
     ]
    }
   ],
   "source": [
    "f1_estimators = []\n",
    "index_estimator = [100,150,200,250,300,350,400,450,500]\n",
    "for i in range(100, 501, 50):\n",
    "    clf = xgb.XGBClassifier(n_estimators=i)\n",
    "    clf.fit(X_train, y_train)\n",
    "    y_pred = clf.predict(X_val)\n",
    "    predictions = [round(value) for value in y_pred]\n",
    "    f1Score = f1_score(y_val, predictions)\n",
    "    print(f'F1 score is {f1Score * 100}')\n",
    "    f1_estimators.append(f1Score)"
   ]
  },
  {
   "cell_type": "code",
   "execution_count": 49,
   "metadata": {},
   "outputs": [
    {
     "data": {
      "image/png": "[encoded data removed]",
      "text/plain": [
       "<Figure size 576x576 with 1 Axes>"
      ]
     },
     "metadata": {
      "needs_background": "light"
     },
     "output_type": "display_data"
    }
   ],
   "source": [
    "plt.figure(figsize=(8,8))\n",
    "plt.plot(index_estimator, f1_estimators)\n",
    "plt.title('tuning max_depth')\n",
    "plt.xlabel('number of estimators')\n",
    "plt.ylabel('f1 score')\n",
    "plt.show()"
   ]
  },
  {
   "cell_type": "markdown",
   "metadata": {},
   "source": [
    "The best score I got from kaggle is with max_depth = 4 and n_estimators = 200."
   ]
  },
  {
   "cell_type": "code",
   "execution_count": 50,
   "metadata": {},
   "outputs": [
    {
     "data": {
      "text/plain": [
       "XGBClassifier(base_score=0.5, booster='gbtree', colsample_bylevel=1,\n",
       "       colsample_bynode=1, colsample_bytree=1, gamma=0, learning_rate=0.1,\n",
       "       max_delta_step=0, max_depth=4, min_child_weight=1, missing=None,\n",
       "       n_estimators=220, n_jobs=1, nthread=None,\n",
       "       objective='binary:logistic', random_state=0, reg_alpha=0,\n",
       "       reg_lambda=1, scale_pos_weight=1, seed=None, silent=None,\n",
       "       subsample=1, verbosity=1)"
      ]
     },
     "execution_count": 50,
     "metadata": {},
     "output_type": "execute_result"
    }
   ],
   "source": [
    "clf = xgb.XGBClassifier(max_depth=4,n_estimators=220)\n",
    "clf.fit(X_train, y_train)"
   ]
  },
  {
   "cell_type": "code",
   "execution_count": 51,
   "metadata": {},
   "outputs": [],
   "source": [
    "test_pred = clf.predict(test_df)\n",
    "test_predictions = [round(value) for value in test_pred]"
   ]
  },
  {
   "cell_type": "code",
   "execution_count": 52,
   "metadata": {},
   "outputs": [],
   "source": [
    "test['label'] = test_predictions"
   ]
  },
  {
   "cell_type": "code",
   "execution_count": 53,
   "metadata": {},
   "outputs": [],
   "source": [
    "test[['Id', 'label']].to_csv('test_predcited.csv', index= False)"
   ]
  },
  {
   "cell_type": "code",
   "execution_count": null,
   "metadata": {},
   "outputs": [],
   "source": []
  }
 ],
 "metadata": {
  "kernelspec": {
   "display_name": "Python 3",
   "language": "python",
   "name": "python3"
  },
  "language_info": {
   "codemirror_mode": {
    "name": "ipython",
    "version": 3
   },
   "file_extension": ".py",
   "mimetype": "text/x-python",
   "name": "python",
   "nbconvert_exporter": "python",
   "pygments_lexer": "ipython3",
   "version": "3.7.3"
  }
 },
 "nbformat": 4,
 "nbformat_minor": 2
}
